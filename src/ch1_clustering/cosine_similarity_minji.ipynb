{
 "cells": [
  {
   "cell_type": "code",
   "execution_count": 1,
   "metadata": {},
   "outputs": [
    {
     "name": "stdout",
     "output_type": "stream",
     "text": [
      "Top similar pairs:\n",
      "StockA and StockC: 0.014904794551874375\n",
      "StockB and StockC: -0.6407852013030907\n",
      "StockA and StockB: -0.7771857046274615\n"
     ]
    }
   ],
   "source": [
    "import pandas as pd\n",
    "from sklearn.metrics.pairwise import cosine_similarity\n",
    "from sklearn.preprocessing import StandardScaler\n",
    "\n",
    "# 예제 데이터 (등락률 데이터)\n",
    "data = {\n",
    "    'StockA': [0.02, 0.03, -0.02, -0.05, 0.01],\n",
    "    'StockB': [-0.05, 0.06, 0.03, 0.04, 0.03],\n",
    "    'StockC': [0.01, -0.02, -0.03, 0.02, 0.02]\n",
    "}\n",
    "\n",
    "df = pd.DataFrame(data)\n",
    "\n",
    "# 결측치 처리\n",
    "df = df.fillna(0)\n",
    "\n",
    "# 데이터 표준화\n",
    "scaler = StandardScaler()\n",
    "returns_scaled = scaler.fit_transform(df.T)\n",
    "\n",
    "# Cosine Similarity 계산\n",
    "cosine_sim = cosine_similarity(returns_scaled)\n",
    "\n",
    "# 결과 출력\n",
    "similar_pairs = []\n",
    "for i in range(len(cosine_sim)):\n",
    "    for j in range(i + 1, len(cosine_sim)):\n",
    "        similar_pairs.append(((df.columns[i], df.columns[j]), cosine_sim[i, j]))\n",
    "\n",
    "similar_pairs.sort(key=lambda x: x[1], reverse=True)\n",
    "\n",
    "print(\"Top similar pairs:\")\n",
    "for pair, similarity in similar_pairs[:5]:\n",
    "    print(f\"{pair[0]} and {pair[1]}: {similarity}\")"
   ]
  },
  {
   "cell_type": "markdown",
   "metadata": {},
   "source": [
    "#### 위 코드와, 한국 주식 데이터를 활용해서 주식간 유사도가 가장 높은 쌍 찾기"
   ]
  },
  {
   "cell_type": "code",
   "execution_count": null,
   "metadata": {},
   "outputs": [],
   "source": []
  }
 ],
 "metadata": {
  "kernelspec": {
   "display_name": "jupyter38",
   "language": "python",
   "name": "python3"
  },
  "language_info": {
   "codemirror_mode": {
    "name": "ipython",
    "version": 3
   },
   "file_extension": ".py",
   "mimetype": "text/x-python",
   "name": "python",
   "nbconvert_exporter": "python",
   "pygments_lexer": "ipython3",
   "version": "3.8.10"
  }
 },
 "nbformat": 4,
 "nbformat_minor": 2
}
