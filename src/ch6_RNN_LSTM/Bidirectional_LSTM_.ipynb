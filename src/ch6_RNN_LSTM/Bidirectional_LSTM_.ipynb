{
  "cells": [
    {
      "cell_type": "markdown",
      "metadata": {
        "colab_type": "text",
        "id": "view-in-github"
      },
      "source": [
        "<a href=\"https://colab.research.google.com/github/team-sesac/transformer-for-finance/blob/main/src/ch6_RNN_LSTM/Bidirectional_LSTM_.ipynb\" target=\"_parent\"><img src=\"https://colab.research.google.com/assets/colab-badge.svg\" alt=\"Open In Colab\"/></a>"
      ]
    },
    {
      "cell_type": "code",
      "execution_count": null,
      "metadata": {
        "id": "3HgV-AEy67_t"
      },
      "outputs": [],
      "source": []
    },
    {
      "cell_type": "markdown",
      "metadata": {
        "id": "FuCfcR2uJ2IP"
      },
      "source": [
        "Bidirectional LSTM  을 사용\n",
        "https://icedhotchoco.tistory.com/entry/DAY-80\n"
      ]
    },
    {
      "cell_type": "code",
      "execution_count": 1,
      "metadata": {
        "id": "wdva-YHI7HUd"
      },
      "outputs": [],
      "source": [
        "!pip install -q finance-datareader\n",
        "import FinanceDataReader as fdr\n",
        "import pandas as pd\n"
      ]
    },
    {
      "cell_type": "code",
      "execution_count": 2,
      "metadata": {
        "colab": {
          "base_uri": "https://localhost:8080/"
        },
        "id": "ETFBhxl07Hx3",
        "outputId": "ad2b8aed-a7b2-4f26-e2f3-de9c4a2b77d5"
      },
      "outputs": [
        {
          "data": {
            "text/plain": [
              "(2973, 6)"
            ]
          },
          "execution_count": 2,
          "metadata": {},
          "output_type": "execute_result"
        }
      ],
      "source": [
        "df = fdr.DataReader('122870', '2010') #YG엔터테인먼트\n",
        "df.shape"
      ]
    },
    {
      "cell_type": "code",
      "execution_count": 3,
      "metadata": {
        "colab": {
          "base_uri": "https://localhost:8080/",
          "height": 237
        },
        "id": "l97tTGyM75z9",
        "outputId": "cc1258e8-cb4e-4922-8187-19702dd79ef3"
      },
      "outputs": [
        {
          "data": {
            "text/html": [
              "<div>\n",
              "<style scoped>\n",
              "    .dataframe tbody tr th:only-of-type {\n",
              "        vertical-align: middle;\n",
              "    }\n",
              "\n",
              "    .dataframe tbody tr th {\n",
              "        vertical-align: top;\n",
              "    }\n",
              "\n",
              "    .dataframe thead th {\n",
              "        text-align: right;\n",
              "    }\n",
              "</style>\n",
              "<table border=\"1\" class=\"dataframe\">\n",
              "  <thead>\n",
              "    <tr style=\"text-align: right;\">\n",
              "      <th></th>\n",
              "      <th>Open</th>\n",
              "      <th>High</th>\n",
              "      <th>Low</th>\n",
              "      <th>Close</th>\n",
              "      <th>Volume</th>\n",
              "      <th>Change</th>\n",
              "    </tr>\n",
              "    <tr>\n",
              "      <th>Date</th>\n",
              "      <th></th>\n",
              "      <th></th>\n",
              "      <th></th>\n",
              "      <th></th>\n",
              "      <th></th>\n",
              "      <th></th>\n",
              "    </tr>\n",
              "  </thead>\n",
              "  <tbody>\n",
              "    <tr>\n",
              "      <th>2011-11-23</th>\n",
              "      <td>25446</td>\n",
              "      <td>29263</td>\n",
              "      <td>25446</td>\n",
              "      <td>29263</td>\n",
              "      <td>147372</td>\n",
              "      <td>NaN</td>\n",
              "    </tr>\n",
              "    <tr>\n",
              "      <th>2011-11-24</th>\n",
              "      <td>30498</td>\n",
              "      <td>33641</td>\n",
              "      <td>30498</td>\n",
              "      <td>33641</td>\n",
              "      <td>1575530</td>\n",
              "      <td>0.149609</td>\n",
              "    </tr>\n",
              "    <tr>\n",
              "      <th>2011-11-25</th>\n",
              "      <td>34426</td>\n",
              "      <td>36372</td>\n",
              "      <td>28926</td>\n",
              "      <td>29787</td>\n",
              "      <td>1429458</td>\n",
              "      <td>-0.114563</td>\n",
              "    </tr>\n",
              "    <tr>\n",
              "      <th>2011-11-28</th>\n",
              "      <td>30498</td>\n",
              "      <td>30984</td>\n",
              "      <td>28739</td>\n",
              "      <td>29376</td>\n",
              "      <td>543186</td>\n",
              "      <td>-0.013798</td>\n",
              "    </tr>\n",
              "    <tr>\n",
              "      <th>2011-11-29</th>\n",
              "      <td>29898</td>\n",
              "      <td>30647</td>\n",
              "      <td>28813</td>\n",
              "      <td>29376</td>\n",
              "      <td>396516</td>\n",
              "      <td>0.000000</td>\n",
              "    </tr>\n",
              "  </tbody>\n",
              "</table>\n",
              "</div>"
            ],
            "text/plain": [
              "             Open   High    Low  Close   Volume    Change\n",
              "Date                                                     \n",
              "2011-11-23  25446  29263  25446  29263   147372       NaN\n",
              "2011-11-24  30498  33641  30498  33641  1575530  0.149609\n",
              "2011-11-25  34426  36372  28926  29787  1429458 -0.114563\n",
              "2011-11-28  30498  30984  28739  29376   543186 -0.013798\n",
              "2011-11-29  29898  30647  28813  29376   396516  0.000000"
            ]
          },
          "execution_count": 3,
          "metadata": {},
          "output_type": "execute_result"
        }
      ],
      "source": [
        "df.head()"
      ]
    },
    {
      "cell_type": "code",
      "execution_count": 4,
      "metadata": {
        "colab": {
          "base_uri": "https://localhost:8080/"
        },
        "id": "R-I5DW5g77GU",
        "outputId": "9d4e0d02-44e3-4070-ad3d-9ea6d3e915e0"
      },
      "outputs": [
        {
          "data": {
            "text/plain": [
              "((2973, 4), (2973,))"
            ]
          },
          "execution_count": 4,
          "metadata": {},
          "output_type": "execute_result"
        }
      ],
      "source": [
        "df_ohlcv = df.iloc[:,:-1]\n",
        "dfx = df_ohlcv.drop(columns='Close')\n",
        "dfy = df_ohlcv['Close']\n",
        "dfx.shape, dfy.shape"
      ]
    },
    {
      "cell_type": "code",
      "execution_count": 5,
      "metadata": {
        "colab": {
          "base_uri": "https://localhost:8080/",
          "height": 300
        },
        "id": "pJ4OT-qh8Sxs",
        "outputId": "21d420ea-6381-434a-9669-863a2025e66d"
      },
      "outputs": [
        {
          "data": {
            "text/html": [
              "<div>\n",
              "<style scoped>\n",
              "    .dataframe tbody tr th:only-of-type {\n",
              "        vertical-align: middle;\n",
              "    }\n",
              "\n",
              "    .dataframe tbody tr th {\n",
              "        vertical-align: top;\n",
              "    }\n",
              "\n",
              "    .dataframe thead th {\n",
              "        text-align: right;\n",
              "    }\n",
              "</style>\n",
              "<table border=\"1\" class=\"dataframe\">\n",
              "  <thead>\n",
              "    <tr style=\"text-align: right;\">\n",
              "      <th></th>\n",
              "      <th>0</th>\n",
              "      <th>1</th>\n",
              "      <th>2</th>\n",
              "      <th>3</th>\n",
              "    </tr>\n",
              "  </thead>\n",
              "  <tbody>\n",
              "    <tr>\n",
              "      <th>count</th>\n",
              "      <td>2973.000000</td>\n",
              "      <td>2973.000000</td>\n",
              "      <td>2973.000000</td>\n",
              "      <td>2973.000000</td>\n",
              "    </tr>\n",
              "    <tr>\n",
              "      <th>mean</th>\n",
              "      <td>0.315119</td>\n",
              "      <td>0.313019</td>\n",
              "      <td>0.315133</td>\n",
              "      <td>0.045790</td>\n",
              "    </tr>\n",
              "    <tr>\n",
              "      <th>std</th>\n",
              "      <td>0.167114</td>\n",
              "      <td>0.167646</td>\n",
              "      <td>0.163810</td>\n",
              "      <td>0.057076</td>\n",
              "    </tr>\n",
              "    <tr>\n",
              "      <th>min</th>\n",
              "      <td>0.000000</td>\n",
              "      <td>0.000000</td>\n",
              "      <td>0.000000</td>\n",
              "      <td>0.000000</td>\n",
              "    </tr>\n",
              "    <tr>\n",
              "      <th>25%</th>\n",
              "      <td>0.174867</td>\n",
              "      <td>0.172302</td>\n",
              "      <td>0.177300</td>\n",
              "      <td>0.015137</td>\n",
              "    </tr>\n",
              "    <tr>\n",
              "      <th>50%</th>\n",
              "      <td>0.311170</td>\n",
              "      <td>0.308192</td>\n",
              "      <td>0.312438</td>\n",
              "      <td>0.031516</td>\n",
              "    </tr>\n",
              "    <tr>\n",
              "      <th>75%</th>\n",
              "      <td>0.406915</td>\n",
              "      <td>0.404421</td>\n",
              "      <td>0.405641</td>\n",
              "      <td>0.057506</td>\n",
              "    </tr>\n",
              "    <tr>\n",
              "      <th>max</th>\n",
              "      <td>1.000000</td>\n",
              "      <td>1.000000</td>\n",
              "      <td>1.000000</td>\n",
              "      <td>1.000000</td>\n",
              "    </tr>\n",
              "  </tbody>\n",
              "</table>\n",
              "</div>"
            ],
            "text/plain": [
              "                 0            1            2            3\n",
              "count  2973.000000  2973.000000  2973.000000  2973.000000\n",
              "mean      0.315119     0.313019     0.315133     0.045790\n",
              "std       0.167114     0.167646     0.163810     0.057076\n",
              "min       0.000000     0.000000     0.000000     0.000000\n",
              "25%       0.174867     0.172302     0.177300     0.015137\n",
              "50%       0.311170     0.308192     0.312438     0.031516\n",
              "75%       0.406915     0.404421     0.405641     0.057506\n",
              "max       1.000000     1.000000     1.000000     1.000000"
            ]
          },
          "execution_count": 5,
          "metadata": {},
          "output_type": "execute_result"
        }
      ],
      "source": [
        "from sklearn.preprocessing import MinMaxScaler\n",
        "\n",
        "mmsx = MinMaxScaler()\n",
        "mmsy = MinMaxScaler()\n",
        "x_mms = mmsx.fit_transform(dfx)\n",
        "y_mms = mmsy.fit_transform(dfy.to_frame())\n",
        "#예측 후 스케일링 값을 복원할 때 편하게 하기 위해서, x, y 따로 스케일링 진행\n",
        "\n",
        "pd.DataFrame(x_mms).describe()"
      ]
    },
    {
      "cell_type": "code",
      "execution_count": 6,
      "metadata": {
        "colab": {
          "base_uri": "https://localhost:8080/"
        },
        "id": "oUO-anAE8t-X",
        "outputId": "8e45e3fd-8082-4b93-ae36-f7affa7b897b"
      },
      "outputs": [
        {
          "data": {
            "text/plain": [
              "(array([[0.07773936, 0.11915475, 0.08725319, 0.0210353 ],\n",
              "        [0.14492021, 0.17608583, 0.15511081, 0.26657461],\n",
              "        [0.19715426, 0.21159948, 0.13399597, 0.24146085],\n",
              "        [0.14492021, 0.14153446, 0.13148422, 0.08908652],\n",
              "        [0.13694149, 0.13715215, 0.13247817, 0.06386995],\n",
              "        [0.13545213, 0.13764629, 0.10584285, 0.09703988],\n",
              "        [0.11305851, 0.1123407 , 0.10584285, 0.09741984],\n",
              "        [0.11953457, 0.11087126, 0.11339154, 0.02934558],\n",
              "        [0.10409574, 0.09821847, 0.09830759, 0.02689974],\n",
              "        [0.08917553, 0.11816645, 0.09327065, 0.10163996]]),\n",
              " array([0.09446865]))"
            ]
          },
          "execution_count": 6,
          "metadata": {},
          "output_type": "execute_result"
        }
      ],
      "source": [
        "x_mms[0:10], y_mms[10]"
      ]
    },
    {
      "cell_type": "code",
      "execution_count": 7,
      "metadata": {
        "id": "SoviPt9g82Fy"
      },
      "outputs": [],
      "source": [
        "window_size = 10\n",
        "x_data = []\n",
        "y_data = []\n",
        "for start in range(len(y_mms)-window_size):\n",
        "  stop = start + window_size\n",
        "  x_data.append(x_mms[start:stop])\n",
        "  y_data.append(y_mms[stop])"
      ]
    },
    {
      "cell_type": "code",
      "execution_count": 8,
      "metadata": {
        "colab": {
          "base_uri": "https://localhost:8080/"
        },
        "id": "irY3vhdz9MC9",
        "outputId": "05f1b6c8-bab5-4a75-c28f-dcb489c5bb41"
      },
      "outputs": [
        {
          "name": "stdout",
          "output_type": "stream",
          "text": [
            "2973\n",
            "2963\n"
          ]
        }
      ],
      "source": [
        "print(len(y_mms))\n",
        "print(len(y_data))"
      ]
    },
    {
      "cell_type": "markdown",
      "metadata": {
        "id": "gZMF0_uIJMdJ"
      },
      "source": [
        "Train, Test 분할 (80:20 = 2745 : 687)"
      ]
    },
    {
      "cell_type": "code",
      "execution_count": 9,
      "metadata": {
        "colab": {
          "base_uri": "https://localhost:8080/"
        },
        "id": "BTWuiIT39TPI",
        "outputId": "053b692f-075c-4289-c44d-50b38690b22a"
      },
      "outputs": [
        {
          "data": {
            "text/plain": [
              "((2370, 10, 4), (2963, 10, 4), (2370, 1), (2963, 1))"
            ]
          },
          "execution_count": 9,
          "metadata": {},
          "output_type": "execute_result"
        }
      ],
      "source": [
        "import numpy as np\n",
        "split_size = int(len(x_data)*0.8)\n",
        "X_train = np.array(x_data[:split_size])\n",
        "# X_test = np.array(x_data[split_size:])\n",
        "X_test = np.array(x_data)\n",
        "y_train = np.array(y_data[:split_size])\n",
        "# y_test = np.array(y_data[split_size:])\n",
        "y_test = np.array(y_data)\n",
        "\n",
        "X_train.shape, X_test.shape, y_train.shape, y_test.shape\n"
      ]
    },
    {
      "cell_type": "code",
      "execution_count": 10,
      "metadata": {
        "colab": {
          "base_uri": "https://localhost:8080/"
        },
        "id": "75-dsgHO9nh8",
        "outputId": "1eccc9f8-4b91-4f66-9552-768c73e2cea5"
      },
      "outputs": [
        {
          "name": "stdout",
          "output_type": "stream",
          "text": [
            "BidirectionalLSTMModel(\n",
            "  (lstm1): LSTM(4, 64, batch_first=True, bidirectional=True)\n",
            "  (dropout1): Dropout(p=0.5, inplace=False)\n",
            "  (lstm2): LSTM(128, 32, batch_first=True, bidirectional=True)\n",
            "  (dropout2): Dropout(p=0.5, inplace=False)\n",
            "  (fc): Linear(in_features=64, out_features=1, bias=True)\n",
            ")\n"
          ]
        }
      ],
      "source": [
        "import torch\n",
        "import torch.nn as nn\n",
        "\n",
        "class BidirectionalLSTMModel(nn.Module):\n",
        "    def __init__(self, input_size, hidden_size1, hidden_size2, output_size=1, dropout_rate=0.5):\n",
        "        super(BidirectionalLSTMModel, self).__init__()\n",
        "\n",
        "        self.lstm1 = nn.LSTM(input_size, hidden_size1, bidirectional=True, batch_first=True)\n",
        "        self.dropout1 = nn.Dropout(dropout_rate)\n",
        "        self.lstm2 = nn.LSTM(hidden_size1 * 2, hidden_size2, bidirectional=True, batch_first=True)\n",
        "        self.dropout2 = nn.Dropout(dropout_rate)\n",
        "        self.fc = nn.Linear(hidden_size2 * 2, output_size)\n",
        "\n",
        "    def forward(self, x):\n",
        "        out, _ = self.lstm1(x)\n",
        "        out = self.dropout1(out)\n",
        "        out, _ = self.lstm2(out)\n",
        "        out = self.dropout2(out)\n",
        "        out = self.fc(out[:, -1, :])  # Take the output from the last time step\n",
        "        return out\n",
        "\n",
        "# Assuming X_train[0].shape is (sequence_length, input_features)\n",
        "input_size = X_train[0].shape[1]\n",
        "hidden_size1 = 64\n",
        "hidden_size2 = 32\n",
        "\n",
        "model = BidirectionalLSTMModel(input_size, hidden_size1, hidden_size2)\n",
        "print(model)\n"
      ]
    },
    {
      "cell_type": "code",
      "execution_count": 11,
      "metadata": {
        "colab": {
          "base_uri": "https://localhost:8080/",
          "height": 448
        },
        "id": "z30_aqur-Tor",
        "outputId": "704da58a-9499-40ab-ed7c-296b895df987"
      },
      "outputs": [
        {
          "data": {
            "text/plain": [
              "<Axes: >"
            ]
          },
          "execution_count": 11,
          "metadata": {},
          "output_type": "execute_result"
        },
        {
          "data": {
            "image/png": "[encoded data removed]",
            "text/plain": [
              "<Figure size 640x480 with 1 Axes>"
            ]
          },
          "metadata": {},
          "output_type": "display_data"
        }
      ],
      "source": [
        "import torch\n",
        "import torch.nn as nn\n",
        "import torch.optim as optim\n",
        "from torch.utils.data import TensorDataset, DataLoader\n",
        "import numpy as np\n",
        "import pandas as pd\n",
        "\n",
        "# Assuming X_train and y_train are NumPy arrays or PyTorch tensors\n",
        "\n",
        "# Convert NumPy arrays to PyTorch tensors if needed\n",
        "X_train_tensor = torch.tensor(X_train, dtype=torch.float32)\n",
        "y_train_tensor = torch.tensor(y_train, dtype=torch.float32).view(-1, 1)\n",
        "\n",
        "# Assuming model is an instance of BidirectionalLSTMModel\n",
        "\n",
        "# Loss function and optimizer\n",
        "criterion = nn.MSELoss()\n",
        "optimizer = optim.Adam(model.parameters())\n",
        "\n",
        "# Move the model and data to GPU if available\n",
        "device = torch.device('cuda' if torch.cuda.is_available() else 'cpu')\n",
        "model = model.to(device)\n",
        "X_train_tensor = X_train_tensor.to(device)\n",
        "y_train_tensor = y_train_tensor.to(device)\n",
        "\n",
        "# Training loop\n",
        "epochs = 30\n",
        "batch_size = 32\n",
        "\n",
        "dataset = TensorDataset(X_train_tensor, y_train_tensor)\n",
        "dataloader = DataLoader(dataset, batch_size=batch_size, shuffle=True)\n",
        "\n",
        "history = {'loss': [], 'mae': []}\n",
        "\n",
        "for epoch in range(epochs):\n",
        "    total_loss = 0.0\n",
        "    total_mae = 0.0\n",
        "\n",
        "    for inputs, targets in dataloader:\n",
        "        inputs, targets = inputs.to(device), targets.to(device)\n",
        "\n",
        "        optimizer.zero_grad()\n",
        "        outputs = model(inputs)\n",
        "        loss = criterion(outputs, targets)\n",
        "        mae = torch.mean(torch.abs(outputs - targets))\n",
        "\n",
        "        loss.backward()\n",
        "        optimizer.step()\n",
        "\n",
        "        total_loss += loss.item() * len(inputs)\n",
        "        total_mae += mae.item() * len(inputs)\n",
        "\n",
        "    average_loss = total_loss / len(X_train)\n",
        "    average_mae = total_mae / len(X_train)\n",
        "\n",
        "    history['loss'].append(average_loss)\n",
        "    history['mae'].append(average_mae)\n",
        "\n",
        "# Convert history to a DataFrame and plot\n",
        "df_history = pd.DataFrame(history)\n",
        "df_history[['loss', 'mae']].plot()\n"
      ]
    },
    {
      "cell_type": "code",
      "execution_count": 12,
      "metadata": {
        "id": "a6PkfsFr-5Ru"
      },
      "outputs": [],
      "source": [
        "# Assuming X_test is a NumPy array or PyTorch tensor\n",
        "\n",
        "# Convert NumPy array to PyTorch tensor if needed\n",
        "X_test_tensor = torch.tensor(X_test, dtype=torch.float32)\n",
        "\n",
        "# Move the model and data to GPU if available\n",
        "X_test_tensor = X_test_tensor.to(device)\n",
        "model = model.to(device)\n",
        "\n",
        "# Set the model to evaluation mode\n",
        "model.eval()\n",
        "\n",
        "# Make predictions\n",
        "with torch.no_grad():\n",
        "    y_pred_tensor = model(X_test_tensor)\n",
        "\n",
        "# Move predictions back to CPU if needed\n",
        "y_pred = y_pred_tensor.cpu().numpy()\n",
        "\n",
        "# Convert predictions and ground truth to a DataFrame\n",
        "df_test = pd.DataFrame(y_test, columns=['test'])\n",
        "df_test['predict'] = y_pred\n",
        "\n",
        "\n",
        "y_test_date = df.iloc[-y_test.shape[0]:].index\n",
        "\n",
        "# Convert predictions and ground truth to a DataFrame\n",
        "df_test = pd.DataFrame(y_test, columns=['test'])\n",
        "df_test['predict'] = y_pred\n",
        "# df_test.shape\n",
        "# print(y_test.shape[0])\n",
        "\n",
        "df_test.index = y_test_date"
      ]
    },
    {
      "cell_type": "code",
      "execution_count": 13,
      "metadata": {
        "colab": {
          "base_uri": "https://localhost:8080/",
          "height": 455
        },
        "id": "djoBTver_QNS",
        "outputId": "3e3e53a7-4372-40aa-eec1-cea66e02e272"
      },
      "outputs": [
        {
          "data": {
            "text/html": [
              "<div>\n",
              "<style scoped>\n",
              "    .dataframe tbody tr th:only-of-type {\n",
              "        vertical-align: middle;\n",
              "    }\n",
              "\n",
              "    .dataframe tbody tr th {\n",
              "        vertical-align: top;\n",
              "    }\n",
              "\n",
              "    .dataframe thead th {\n",
              "        text-align: right;\n",
              "    }\n",
              "</style>\n",
              "<table border=\"1\" class=\"dataframe\">\n",
              "  <thead>\n",
              "    <tr style=\"text-align: right;\">\n",
              "      <th></th>\n",
              "      <th>test</th>\n",
              "      <th>predict</th>\n",
              "    </tr>\n",
              "    <tr>\n",
              "      <th>Date</th>\n",
              "      <th></th>\n",
              "      <th></th>\n",
              "    </tr>\n",
              "  </thead>\n",
              "  <tbody>\n",
              "    <tr>\n",
              "      <th>2011-12-07</th>\n",
              "      <td>0.094469</td>\n",
              "      <td>0.109835</td>\n",
              "    </tr>\n",
              "    <tr>\n",
              "      <th>2011-12-08</th>\n",
              "      <td>0.092488</td>\n",
              "      <td>0.108514</td>\n",
              "    </tr>\n",
              "    <tr>\n",
              "      <th>2011-12-09</th>\n",
              "      <td>0.102376</td>\n",
              "      <td>0.105616</td>\n",
              "    </tr>\n",
              "    <tr>\n",
              "      <th>2011-12-12</th>\n",
              "      <td>0.122139</td>\n",
              "      <td>0.104248</td>\n",
              "    </tr>\n",
              "    <tr>\n",
              "      <th>2011-12-13</th>\n",
              "      <td>0.126587</td>\n",
              "      <td>0.112628</td>\n",
              "    </tr>\n",
              "    <tr>\n",
              "      <th>...</th>\n",
              "      <td>...</td>\n",
              "      <td>...</td>\n",
              "    </tr>\n",
              "    <tr>\n",
              "      <th>2023-12-11</th>\n",
              "      <td>0.490429</td>\n",
              "      <td>0.499589</td>\n",
              "    </tr>\n",
              "    <tr>\n",
              "      <th>2023-12-12</th>\n",
              "      <td>0.449505</td>\n",
              "      <td>0.498527</td>\n",
              "    </tr>\n",
              "    <tr>\n",
              "      <th>2023-12-13</th>\n",
              "      <td>0.433663</td>\n",
              "      <td>0.473448</td>\n",
              "    </tr>\n",
              "    <tr>\n",
              "      <th>2023-12-14</th>\n",
              "      <td>0.428383</td>\n",
              "      <td>0.440684</td>\n",
              "    </tr>\n",
              "    <tr>\n",
              "      <th>2023-12-15</th>\n",
              "      <td>0.431023</td>\n",
              "      <td>0.427718</td>\n",
              "    </tr>\n",
              "  </tbody>\n",
              "</table>\n",
              "<p>2963 rows × 2 columns</p>\n",
              "</div>"
            ],
            "text/plain": [
              "                test   predict\n",
              "Date                          \n",
              "2011-12-07  0.094469  0.109835\n",
              "2011-12-08  0.092488  0.108514\n",
              "2011-12-09  0.102376  0.105616\n",
              "2011-12-12  0.122139  0.104248\n",
              "2011-12-13  0.126587  0.112628\n",
              "...              ...       ...\n",
              "2023-12-11  0.490429  0.499589\n",
              "2023-12-12  0.449505  0.498527\n",
              "2023-12-13  0.433663  0.473448\n",
              "2023-12-14  0.428383  0.440684\n",
              "2023-12-15  0.431023  0.427718\n",
              "\n",
              "[2963 rows x 2 columns]"
            ]
          },
          "execution_count": 13,
          "metadata": {},
          "output_type": "execute_result"
        }
      ],
      "source": [
        "df_test"
      ]
    },
    {
      "cell_type": "code",
      "execution_count": 14,
      "metadata": {
        "colab": {
          "base_uri": "https://localhost:8080/",
          "height": 455
        },
        "id": "UbjOqr96_rlm",
        "outputId": "27b71134-bb7e-43f4-e174-1b788c9c4569"
      },
      "outputs": [
        {
          "data": {
            "text/html": [
              "<div>\n",
              "<style scoped>\n",
              "    .dataframe tbody tr th:only-of-type {\n",
              "        vertical-align: middle;\n",
              "    }\n",
              "\n",
              "    .dataframe tbody tr th {\n",
              "        vertical-align: top;\n",
              "    }\n",
              "\n",
              "    .dataframe thead th {\n",
              "        text-align: right;\n",
              "    }\n",
              "</style>\n",
              "<table border=\"1\" class=\"dataframe\">\n",
              "  <thead>\n",
              "    <tr style=\"text-align: right;\">\n",
              "      <th></th>\n",
              "      <th>test</th>\n",
              "      <th>predict</th>\n",
              "      <th>Actual</th>\n",
              "      <th>Predict</th>\n",
              "    </tr>\n",
              "    <tr>\n",
              "      <th>Date</th>\n",
              "      <th></th>\n",
              "      <th></th>\n",
              "      <th></th>\n",
              "      <th></th>\n",
              "    </tr>\n",
              "  </thead>\n",
              "  <tbody>\n",
              "    <tr>\n",
              "      <th>2011-12-07</th>\n",
              "      <td>0.094469</td>\n",
              "      <td>0.109835</td>\n",
              "      <td>26606</td>\n",
              "      <td>27770.019531</td>\n",
              "    </tr>\n",
              "    <tr>\n",
              "      <th>2011-12-08</th>\n",
              "      <td>0.092488</td>\n",
              "      <td>0.108514</td>\n",
              "      <td>26456</td>\n",
              "      <td>27669.919922</td>\n",
              "    </tr>\n",
              "    <tr>\n",
              "      <th>2011-12-09</th>\n",
              "      <td>0.102376</td>\n",
              "      <td>0.105616</td>\n",
              "      <td>27205</td>\n",
              "      <td>27450.390625</td>\n",
              "    </tr>\n",
              "    <tr>\n",
              "      <th>2011-12-12</th>\n",
              "      <td>0.122139</td>\n",
              "      <td>0.104248</td>\n",
              "      <td>28702</td>\n",
              "      <td>27346.796875</td>\n",
              "    </tr>\n",
              "    <tr>\n",
              "      <th>2011-12-13</th>\n",
              "      <td>0.126587</td>\n",
              "      <td>0.112628</td>\n",
              "      <td>29039</td>\n",
              "      <td>27981.533203</td>\n",
              "    </tr>\n",
              "    <tr>\n",
              "      <th>...</th>\n",
              "      <td>...</td>\n",
              "      <td>...</td>\n",
              "      <td>...</td>\n",
              "      <td>...</td>\n",
              "    </tr>\n",
              "    <tr>\n",
              "      <th>2023-12-11</th>\n",
              "      <td>0.490429</td>\n",
              "      <td>0.499589</td>\n",
              "      <td>56600</td>\n",
              "      <td>57293.875000</td>\n",
              "    </tr>\n",
              "    <tr>\n",
              "      <th>2023-12-12</th>\n",
              "      <td>0.449505</td>\n",
              "      <td>0.498527</td>\n",
              "      <td>53500</td>\n",
              "      <td>57213.449219</td>\n",
              "    </tr>\n",
              "    <tr>\n",
              "      <th>2023-12-13</th>\n",
              "      <td>0.433663</td>\n",
              "      <td>0.473448</td>\n",
              "      <td>52300</td>\n",
              "      <td>55313.664062</td>\n",
              "    </tr>\n",
              "    <tr>\n",
              "      <th>2023-12-14</th>\n",
              "      <td>0.428383</td>\n",
              "      <td>0.440684</td>\n",
              "      <td>51900</td>\n",
              "      <td>52831.777344</td>\n",
              "    </tr>\n",
              "    <tr>\n",
              "      <th>2023-12-15</th>\n",
              "      <td>0.431023</td>\n",
              "      <td>0.427718</td>\n",
              "      <td>52100</td>\n",
              "      <td>51849.667969</td>\n",
              "    </tr>\n",
              "  </tbody>\n",
              "</table>\n",
              "<p>2963 rows × 4 columns</p>\n",
              "</div>"
            ],
            "text/plain": [
              "                test   predict  Actual       Predict\n",
              "Date                                                \n",
              "2011-12-07  0.094469  0.109835   26606  27770.019531\n",
              "2011-12-08  0.092488  0.108514   26456  27669.919922\n",
              "2011-12-09  0.102376  0.105616   27205  27450.390625\n",
              "2011-12-12  0.122139  0.104248   28702  27346.796875\n",
              "2011-12-13  0.126587  0.112628   29039  27981.533203\n",
              "...              ...       ...     ...           ...\n",
              "2023-12-11  0.490429  0.499589   56600  57293.875000\n",
              "2023-12-12  0.449505  0.498527   53500  57213.449219\n",
              "2023-12-13  0.433663  0.473448   52300  55313.664062\n",
              "2023-12-14  0.428383  0.440684   51900  52831.777344\n",
              "2023-12-15  0.431023  0.427718   52100  51849.667969\n",
              "\n",
              "[2963 rows x 4 columns]"
            ]
          },
          "execution_count": 14,
          "metadata": {},
          "output_type": "execute_result"
        }
      ],
      "source": [
        "#스케일링된 값을 원래값으로 복원\n",
        "y_predict_inverse = mmsy.inverse_transform(y_pred)\n",
        "# y_test_origin = df.iloc[-len(y_pred):, [-3]]\n",
        "y_test_origin = df.iloc[:, [-3]] # 발표 자료용\n",
        "df_test['Actual'] = y_test_origin\n",
        "df_test['Predict'] = y_predict_inverse\n",
        "df_test"
      ]
    },
    {
      "cell_type": "code",
      "execution_count": 16,
      "metadata": {
        "colab": {
          "base_uri": "https://localhost:8080/",
          "height": 465
        },
        "id": "1gk8pucyC0WL",
        "outputId": "15e24e47-7935-4d26-8d9d-3e8756204e4b"
      },
      "outputs": [
        {
          "data": {
            "text/plain": [
              "<Axes: xlabel='Date'>"
            ]
          },
          "execution_count": 16,
          "metadata": {},
          "output_type": "execute_result"
        },
        {
          "data": {
            "image/png": "[encoded data removed]",
            "text/plain": [
              "<Figure size 1000x500 with 1 Axes>"
            ]
          },
          "metadata": {},
          "output_type": "display_data"
        }
      ],
      "source": [
        "df_test[['Predict', 'Actual']].plot(figsize=(10, 5), cmap='bwr')"
      ]
    },
    {
      "cell_type": "code",
      "execution_count": null,
      "metadata": {
        "id": "oo8PEqYXC-YH"
      },
      "outputs": [],
      "source": []
    }
  ],
  "metadata": {
    "accelerator": "GPU",
    "colab": {
      "authorship_tag": "ABX9TyOdLXGv1n08OXDimnJoKTB7",
      "gpuType": "T4",
      "include_colab_link": true,
      "provenance": []
    },
    "kernelspec": {
      "display_name": "Python 3",
      "name": "python3"
    },
    "language_info": {
      "codemirror_mode": {
        "name": "ipython",
        "version": 3
      },
      "file_extension": ".py",
      "mimetype": "text/x-python",
      "name": "python",
      "nbconvert_exporter": "python",
      "pygments_lexer": "ipython3",
      "version": "3.11.5"
    }
  },
  "nbformat": 4,
  "nbformat_minor": 0
}
