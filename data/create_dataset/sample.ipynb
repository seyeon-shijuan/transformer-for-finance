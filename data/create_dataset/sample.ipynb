{
 "cells": [
  {
   "cell_type": "code",
   "execution_count": 16,
   "metadata": {},
   "outputs": [],
   "source": [
    "import FinanceDataReader as fdr\n",
    "import pandas as pd\n",
    "import numpy"
   ]
  },
  {
   "cell_type": "markdown",
   "metadata": {},
   "source": [
    "# 주식 및 ETF 조회"
   ]
  },
  {
   "cell_type": "code",
   "execution_count": null,
   "metadata": {},
   "outputs": [],
   "source": [
    "# 주식\n",
    "# KRX = KOSPI + KOSDAQ + KONEX\n",
    "df  = fdr.StockListing(\"KRX\") \n",
    "print(df.shape)\n",
    "print(df.head())"
   ]
  },
  {
   "cell_type": "code",
   "execution_count": null,
   "metadata": {},
   "outputs": [],
   "source": [
    "# ETF\n",
    "df = fdr.StockListing(\"ETF/KR\") "
   ]
  },
  {
   "cell_type": "markdown",
   "metadata": {},
   "source": [
    "# 파일 저장/불러오기"
   ]
  },
  {
   "cell_type": "code",
   "execution_count": null,
   "metadata": {},
   "outputs": [],
   "source": [
    "# 파일 저장\n",
    "df.to_pickle('../data/krx_list_2311.pkl')"
   ]
  },
  {
   "cell_type": "code",
   "execution_count": null,
   "metadata": {},
   "outputs": [],
   "source": [
    "# 파일 불러오기\n",
    "df = pd.read_pickle('../data/krx_list_2311.pkl')"
   ]
  },
  {
   "cell_type": "markdown",
   "metadata": {},
   "source": [
    "# 가격데이터"
   ]
  },
  {
   "cell_type": "code",
   "execution_count": 14,
   "metadata": {},
   "outputs": [
    {
     "data": {
      "text/html": [
       "<div>\n",
       "<style scoped>\n",
       "    .dataframe tbody tr th:only-of-type {\n",
       "        vertical-align: middle;\n",
       "    }\n",
       "\n",
       "    .dataframe tbody tr th {\n",
       "        vertical-align: top;\n",
       "    }\n",
       "\n",
       "    .dataframe thead th {\n",
       "        text-align: right;\n",
       "    }\n",
       "</style>\n",
       "<table border=\"1\" class=\"dataframe\">\n",
       "  <thead>\n",
       "    <tr style=\"text-align: right;\">\n",
       "      <th></th>\n",
       "      <th>Open</th>\n",
       "      <th>High</th>\n",
       "      <th>Low</th>\n",
       "      <th>Close</th>\n",
       "      <th>Volume</th>\n",
       "      <th>Change</th>\n",
       "    </tr>\n",
       "    <tr>\n",
       "      <th>Date</th>\n",
       "      <th></th>\n",
       "      <th></th>\n",
       "      <th></th>\n",
       "      <th></th>\n",
       "      <th></th>\n",
       "      <th></th>\n",
       "    </tr>\n",
       "  </thead>\n",
       "  <tbody>\n",
       "    <tr>\n",
       "      <th>2023-12-01</th>\n",
       "      <td>72400</td>\n",
       "      <td>72500</td>\n",
       "      <td>71700</td>\n",
       "      <td>72000</td>\n",
       "      <td>9871284</td>\n",
       "      <td>-0.010989</td>\n",
       "    </tr>\n",
       "    <tr>\n",
       "      <th>2023-12-04</th>\n",
       "      <td>72800</td>\n",
       "      <td>72900</td>\n",
       "      <td>72400</td>\n",
       "      <td>72600</td>\n",
       "      <td>10229267</td>\n",
       "      <td>0.008333</td>\n",
       "    </tr>\n",
       "    <tr>\n",
       "      <th>2023-12-05</th>\n",
       "      <td>72300</td>\n",
       "      <td>72400</td>\n",
       "      <td>71600</td>\n",
       "      <td>71700</td>\n",
       "      <td>4217125</td>\n",
       "      <td>-0.012397</td>\n",
       "    </tr>\n",
       "  </tbody>\n",
       "</table>\n",
       "</div>"
      ],
      "text/plain": [
       "             Open   High    Low  Close    Volume    Change\n",
       "Date                                                      \n",
       "2023-12-01  72400  72500  71700  72000   9871284 -0.010989\n",
       "2023-12-04  72800  72900  72400  72600  10229267  0.008333\n",
       "2023-12-05  72300  72400  71600  71700   4217125 -0.012397"
      ]
     },
     "execution_count": 14,
     "metadata": {},
     "output_type": "execute_result"
    }
   ],
   "source": [
    "# 가격데이터\n",
    "start_date = '20231201'\n",
    "end_date = '20231205'\n",
    "df = fdr.DataReader('005930', start_date)\n",
    "# df = fdr.DataReader('005930', start_date, end_date)\n",
    "df.head(10)"
   ]
  },
  {
   "cell_type": "markdown",
   "metadata": {},
   "source": [
    "# 응용"
   ]
  },
  {
   "cell_type": "code",
   "execution_count": null,
   "metadata": {},
   "outputs": [],
   "source": [
    "# 종가 데이터 \n",
    "\n",
    "start_date = '20231201'\n",
    "end_date = '20231205'\n",
    "\n",
    "\n",
    "# 한국거래소 상장종목 전체 조회\n",
    "kospi = fdr.StockListing('KOSPI')\n",
    "kosdaq = fdr.StockListing('KOSDAQ')\n",
    "\n",
    "kospi_list = kospi[['Code', 'Name']]\n",
    "kosdaq_list = kosdaq[['Code', 'Name']]\n",
    "data_list = pd.concat([kospi_list, kosdaq_list], axis=0)\n",
    "\n",
    "# kospi_list 종가 차트\n",
    "df = fdr.DataReader(data_list['Code'], start_date, end_date)\n",
    "df.columns = data_list['Name']"
   ]
  }
 ],
 "metadata": {
  "kernelspec": {
   "display_name": "transformer",
   "language": "python",
   "name": "python3"
  },
  "language_info": {
   "codemirror_mode": {
    "name": "ipython",
    "version": 3
   },
   "file_extension": ".py",
   "mimetype": "text/x-python",
   "name": "python",
   "nbconvert_exporter": "python",
   "pygments_lexer": "ipython3",
   "version": "3.10.13"
  }
 },
 "nbformat": 4,
 "nbformat_minor": 2
}
